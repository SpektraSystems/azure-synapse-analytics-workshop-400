{
  "cells": [
    {
      "cell_type": "code",
      "source": [
        "import codecs\r\n",
        "\r\n",
        "session = spark.builder.getOrCreate();\r\n",
        "\r\n",
        "storage_account_name = \"#STORAGE_ACCOUNT_NAME#\"\r\n",
        "storage_account_access_key = \"#STORAGE_ACCOUNT_KEY#\"\r\n",
        "\r\n",
        "connection_string = \"DefaultEndpointsProtocol=https;AccountName=\" + storage_account_name + \";AccountKey=\" + storage_account_access_key + \";EndpointSuffix=core.windows.net\"\r\n",
        "\r\n",
        "session.conf.set(\r\n",
        "\t\"fs.azure.account.key.\" + storage_account_name + \".blob.core.windows.net\",\r\n",
        "\tstorage_account_access_key\r\n",
        ")\r\n",
        "\r\n",
        "sdf = session.read.text(\r\n",
        "\t\"wasbs://models@\" + storage_account_name + \".blob.core.windows.net/onnx/model.onnx\"\r\n",
        ")\r\n",
        "\r\n",
        "str3 = ''\r\n",
        "\r\n",
        "def compare(a, b, encoding=\"utf8\"):\r\n",
        "    if isinstance(a, bytes):\r\n",
        "        a = a.decode(encoding)\r\n",
        "    if isinstance(b, bytes):\r\n",
        "        b = b.decode(encoding)\r\n",
        "    return a == b\r\n",
        "\r\n",
        "for xs in sdf.take(sdf.count()):\r\n",
        "    for x in xs:\r\n",
        "        for l in x:\r\n",
        "            try:\r\n",
        "                arr = bytes(l, 'utf-8')\r\n",
        "\r\n",
        "                newArr = codecs.getencoder('hex')(arr)[0]\r\n",
        "\r\n",
        "                if compare(newArr, b'efbfbd'):\r\n",
        "                    newArr = b'b4'\r\n",
        "\r\n",
        "                str3 = str3 + newArr.decode(\"utf-8\")\r\n",
        "                \r\n",
        "            except:\r\n",
        "                print('Skipping' + l)\r\n",
        "\r\n",
        "print(str3)\r\n",
        "\r\n",
        "from azure.storage.blob import BlobClient\r\n",
        "\r\n",
        "blob = BlobClient.from_connection_string(conn_str=connection_string, container_name=\"models\", blob_name=\"onnx/model.onnx.hex\")\r\n",
        "blob.upload_blob(str3,overwrite=True)"
      ],
      "outputs": [],
      "execution_count": null,
      "metadata": {}
    }
  ],
  "metadata": {
    "language_info": {
      "name": "python"
    },
    "kernelspec": {
      "name": "synapse_pyspark",
      "display_name": "python"
    },
    "microsoft": {
      "language": "python"
    },
    "nteract": {
      "version": "nteract-front-end@1.0.0"
    },
    "save_output": true,
    "synapse_widget": {
      "version": "0.1",
      "state": {}
    }
  },
  "nbformat": 4,
  "nbformat_minor": 2
}